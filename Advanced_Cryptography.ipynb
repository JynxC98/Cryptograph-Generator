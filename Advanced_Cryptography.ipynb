{
 "cells": [
  {
   "cell_type": "code",
   "execution_count": 1,
   "metadata": {},
   "outputs": [],
   "source": [
    "import numpy as np\n",
    "import string"
   ]
  },
  {
   "cell_type": "code",
   "execution_count": 2,
   "metadata": {},
   "outputs": [],
   "source": [
    "list_1=[[1,1],[0,1]]\n",
    "list_2=[[1,-1],[0,1]]"
   ]
  },
  {
   "cell_type": "code",
   "execution_count": 3,
   "metadata": {},
   "outputs": [],
   "source": [
    "encoding_matrix=np.array(list_1)\n",
    "decoding_matrix=np.array(list_2)"
   ]
  },
  {
   "cell_type": "markdown",
   "metadata": {},
   "source": [
    "## How does Cryptography using matrices work?\n",
    "The key matrix is used to encrypt the messages, and its inverse is used to decrypt the encoded messages. It is important that the key matrix be kept secret between the message senders and intended recipients. If the key matrix or its inverse is discovered, then all intercepted messages can be easily decoded.\n",
    "\n",
    "For this code, we will use a 2x2 matrix.\n"
   ]
  },
  {
   "cell_type": "markdown",
   "metadata": {},
   "source": [
    "# Methodology\n",
    "Here, we will convert all the characters of the message in ASCII Format for the purpose of encoding."
   ]
  },
  {
   "cell_type": "code",
   "execution_count": 4,
   "metadata": {},
   "outputs": [],
   "source": [
    "def Text_to_code(Text, encoding_matrix):\n",
    "    '''\n",
    "    Where,\n",
    "    text: User defined text.\n",
    "    numbers: List of numbers ranging from 1-28.\n",
    "    '''\n",
    "    Text=Text.replace(\" \",\"*\") #Replaces space with a character.\n",
    "    Text= [i for i in Text] #Iterating through each and every character and appending it in the form of a list.\n",
    "    if len(Text)%2!=0: #Since the length of the characters' list has to be an even number, we add a * if the \n",
    "                        #len is odd.\n",
    "        Text.append(\"*\")\n",
    "    Text=[ord(i) for i in Text] #Converting the characters to ASCII format.\n",
    "    Text=np.array(Text)\n",
    "    Text=Text.reshape(-1,2).T  #Reshaping the array to form 2 elements in each row and transposing it.\n",
    "    temp=np.matmul(encoding_matrix,Text) #Premultiplying the encoding message with the temp array.\n",
    "    encoded_message=[]\n",
    " \n",
    "    '''\n",
    "    Here, the encoded matrix is in the form of [[a,c,e],[b,d,f]] and the message is\n",
    "    supposed to be a,b,c,d,e,f, which are encoded numbers of the alphabets.\n",
    "    To convert the nested list into a linear list, we run a loop through both the lists present inside.\n",
    "    '''\n",
    "    for i,j in zip(temp[0],temp[1]): #Appending each and every element of the nested lists.\n",
    "        encoded_message.append(i)\n",
    "        encoded_message.append(j)\n",
    "    \n",
    "    return encoded_message\n",
    "    "
   ]
  },
  {
   "cell_type": "code",
   "execution_count": 5,
   "metadata": {},
   "outputs": [
    {
     "name": "stdout",
     "output_type": "stream",
     "text": [
      "Please enter your message \n",
      "I ate 29 sandwiches\n"
     ]
    }
   ],
   "source": [
    "Message=input(\"Please enter your message \\n\")"
   ]
  },
  {
   "cell_type": "code",
   "execution_count": 6,
   "metadata": {},
   "outputs": [
    {
     "data": {
      "text/plain": [
       "'I ate 29 sandwiches'"
      ]
     },
     "execution_count": 6,
     "metadata": {},
     "output_type": "execute_result"
    }
   ],
   "source": [
    "Message"
   ]
  },
  {
   "cell_type": "code",
   "execution_count": 7,
   "metadata": {},
   "outputs": [],
   "source": [
    "Message_Encoded=Text_to_code(Message, encoding_matrix)"
   ]
  },
  {
   "cell_type": "code",
   "execution_count": 8,
   "metadata": {},
   "outputs": [
    {
     "data": {
      "text/plain": [
       "[115,\n",
       " 42,\n",
       " 213,\n",
       " 116,\n",
       " 143,\n",
       " 42,\n",
       " 107,\n",
       " 57,\n",
       " 157,\n",
       " 115,\n",
       " 207,\n",
       " 110,\n",
       " 219,\n",
       " 119,\n",
       " 204,\n",
       " 99,\n",
       " 205,\n",
       " 101,\n",
       " 157,\n",
       " 42]"
      ]
     },
     "execution_count": 8,
     "metadata": {},
     "output_type": "execute_result"
    }
   ],
   "source": [
    "Message_Encoded"
   ]
  },
  {
   "cell_type": "code",
   "execution_count": 9,
   "metadata": {},
   "outputs": [],
   "source": [
    "def Code_to_Text(Encoded_Message, decoding_matrix):\n",
    "    \"\"\"\n",
    "    Where,\n",
    "    encoded_message=List of numbers which represent an encoded message.\n",
    "    alphabets: List of alphabets.\n",
    "    decoding_matrix: The provided decoding matrix.\n",
    "    \"\"\"\n",
    "    temp1=np.array(Encoded_Message) #Converting the encoded message into an array.\n",
    "    temp1=np.array(temp1).reshape(-1,2).T #Taking transpose of the encoded message\n",
    "    decode=np.matmul(decoding_matrix, temp1) #Premultiplying the decoding matrix with the encoded message.\n",
    "    decode=decode.tolist() #Converting the decoded message into a list.\n",
    "    temp2=[] #Initializing an empty list.\n",
    "    '''\n",
    "    Here, the decoded matrix is in the form of [[a,c,e],[b,d,f]] and the message is\n",
    "    supposed to be a,b,c,d,e,f, which are encoded numbers of the alphabets.\n",
    "    To convert the nested list into a linear list, we run a loop through both the lists present inside.\n",
    "    '''\n",
    "    for i,j in zip(decode[0],decode[1]):\n",
    "        temp2.append(i)\n",
    "        temp2.append(j)\n",
    "    temp2=[chr(x) for x in temp2] #Converting ASCII to char for each element of the list.\n",
    "    temp2=\"\".join(temp2)\n",
    "    temp2=temp2.replace(\"*\",\" \")\n",
    "    return temp2\n",
    "        \n",
    "    "
   ]
  },
  {
   "cell_type": "code",
   "execution_count": 10,
   "metadata": {},
   "outputs": [
    {
     "data": {
      "text/plain": [
       "'I ate 29 sandwiches '"
      ]
     },
     "execution_count": 10,
     "metadata": {},
     "output_type": "execute_result"
    }
   ],
   "source": [
    "Code_to_Text(Message_Encoded,decoding_matrix)"
   ]
  },
  {
   "cell_type": "code",
   "execution_count": 17,
   "metadata": {},
   "outputs": [
    {
     "data": {
      "text/plain": [
       "[174,\n",
       " 97,\n",
       " 220,\n",
       " 104,\n",
       " 210,\n",
       " 109,\n",
       " 213,\n",
       " 116,\n",
       " 204,\n",
       " 99,\n",
       " 157,\n",
       " 42,\n",
       " 220,\n",
       " 115,\n",
       " 140,\n",
       " 98,\n",
       " 198,\n",
       " 97,\n",
       " 233,\n",
       " 116,\n",
       " 207,\n",
       " 102,\n",
       " 225,\n",
       " 108,\n",
       " 88,\n",
       " 42]"
      ]
     },
     "execution_count": 17,
     "metadata": {},
     "output_type": "execute_result"
    }
   ],
   "source": [
    "Encoded_Message_2=Text_to_code(\"Mathematics is beautiful.\",encoding_matrix)\n",
    "Encoded_Message_2"
   ]
  },
  {
   "cell_type": "code",
   "execution_count": 16,
   "metadata": {},
   "outputs": [
    {
     "data": {
      "text/plain": [
       "'Mathematics is beautiful. '"
      ]
     },
     "execution_count": 16,
     "metadata": {},
     "output_type": "execute_result"
    }
   ],
   "source": [
    "Code_to_Text(Encoded_Message_2,decoding_matrix)"
   ]
  },
  {
   "cell_type": "code",
   "execution_count": null,
   "metadata": {},
   "outputs": [],
   "source": []
  },
  {
   "cell_type": "code",
   "execution_count": null,
   "metadata": {},
   "outputs": [],
   "source": []
  },
  {
   "cell_type": "code",
   "execution_count": null,
   "metadata": {},
   "outputs": [],
   "source": []
  }
 ],
 "metadata": {
  "kernelspec": {
   "display_name": "Python 3",
   "language": "python",
   "name": "python3"
  },
  "language_info": {
   "codemirror_mode": {
    "name": "ipython",
    "version": 3
   },
   "file_extension": ".py",
   "mimetype": "text/x-python",
   "name": "python",
   "nbconvert_exporter": "python",
   "pygments_lexer": "ipython3",
   "version": "3.8.3"
  }
 },
 "nbformat": 4,
 "nbformat_minor": 4
}
