{
 "cells": [
  {
   "cell_type": "code",
   "execution_count": 1,
   "metadata": {},
   "outputs": [],
   "source": [
    "import numpy as np\n",
    "import string"
   ]
  },
  {
   "cell_type": "code",
   "execution_count": 2,
   "metadata": {},
   "outputs": [],
   "source": [
    "list_1=[[1,1],[0,1]]\n",
    "list_2=[[1,-1],[0,1]]"
   ]
  },
  {
   "cell_type": "code",
   "execution_count": 3,
   "metadata": {},
   "outputs": [],
   "source": [
    "encoding_matrix=np.array(list_1)\n",
    "decoding_matrix=np.array(list_2)"
   ]
  },
  {
   "cell_type": "markdown",
   "metadata": {},
   "source": [
    "## How does Cryptography using matrices work?\n",
    "The key matrix is used to encrypt the messages, and its inverse is used to decrypt the encoded messages. It is important that the key matrix be kept secret between the message senders and intended recipients. If the key matrix or its inverse is discovered, then all intercepted messages can be easily decoded.\n",
    "\n",
    "For this code, we will use a 2x2 matrix.\n"
    "Here, we will convert all the characters of a message in ASCII format for the purpose of encoding."
   ]
  },
  {
   "cell_type": "code",
   "execution_count": 4,
   "metadata": {},
   "outputs": [],
   "source": [
    "def Text_to_code(Text, encoding_matrix):\n",
    "    '''\n",
    "    Where,\n",
    "    text: User defined text.\n",
    "    numbers: List of numbers ranging from 1-28.\n",
    "    '''\n",
    "    Text=Text.replace(\" \",\"*\") #Replaces space with a character.\n",
    "    Text= [i for i in Text] #Iterating through each and every character and appending it in the form of a list.\n",
    "    if len(Text)%2!=0: #Since the length of the characters' list has to be an even number, we add a * if the \n",
    "                        #len is odd.\n",
    "        Text.append(\"*\")\n",
    "    Text=[ord(i) for i in Text] \n",
    "    Text=np.array(Text)\n",
    "    Text=Text.reshape(-1,2).T\n",
    "    temp=np.matmul(encoding_matrix,Text)\n",
    "    encoded_message=[]\n",
    " \n",
    "    '''\n",
    "    Here, the encoded matrix is in the form of [[a,c,e],[b,d,f]] and the message is\n",
    "    supposed to be a,b,c,d,e,f, which are encoded numbers of the alphabets.\n",
    "    To convert the nested list into a linear list, we run a loop through both the lists present inside.\n",
    "    '''\n",
    "    for i,j in zip(temp[0],temp[1]): \n",
    "        encoded_message.append(i)\n",
    "        encoded_message.append(j)\n",
    "    \n",
    "    return encoded_message\n",
    "    "
   ]
  },
  {
   "cell_type": "code",
   "execution_count": 10,
   "metadata": {},
   "outputs": [
    {
     "name": "stdout",
     "output_type": "stream",
     "text": [
      "Please enter your message \n",
      "The key to success is hard work, determination, and patience.\n"
     ]
    }
   ],
   "source": [
    "Message=input(\"Please enter your message \\n\")"
   ]
  },
  {
   "cell_type": "code",
   "execution_count": 11,
   "metadata": {},
   "outputs": [
    {
     "data": {
      "text/plain": [
       "'The key to success is hard work, determination, and patience.'"
      ]
     },
     "execution_count": 11,
     "metadata": {},
     "output_type": "execute_result"
    }
   ],
   "source": [
    "Message"
   ]
  },
  {
   "cell_type": "code",
   "execution_count": 12,
   "metadata": {},
   "outputs": [],
   "source": [
    "Message_Encoded=Text_to_code(Message, encoding_matrix)"
   ]
  },
  {
   "cell_type": "code",
   "execution_count": 13,
   "metadata": {},
   "outputs": [
    {
     "data": {
      "text/plain": [
       "[188,\n",
       " 104,\n",
       " 143,\n",
       " 42,\n",
       " 208,\n",
       " 101,\n",
       " 163,\n",
       " 42,\n",
       " 227,\n",
       " 111,\n",
       " 157,\n",
       " 115,\n",
       " 216,\n",
       " 99,\n",
       " 200,\n",
       " 101,\n",
       " 230,\n",
       " 115,\n",
       " 147,\n",
       " 105,\n",
       " 157,\n",
       " 42,\n",
       " 201,\n",
       " 97,\n",
       " 214,\n",
       " 100,\n",
       " 161,\n",
       " 119,\n",
       " 225,\n",
       " 114,\n",
       " 151,\n",
       " 44,\n",
       " 142,\n",
       " 100,\n",
       " 217,\n",
       " 116,\n",
       " 215,\n",
       " 114,\n",
       " 214,\n",
       " 105,\n",
       " 207,\n",
       " 97,\n",
       " 221,\n",
       " 105,\n",
       " 221,\n",
       " 110,\n",
       " 86,\n",
       " 42,\n",
       " 207,\n",
       " 110,\n",
       " 142,\n",
       " 42,\n",
       " 209,\n",
       " 97,\n",
       " 221,\n",
       " 105,\n",
       " 211,\n",
       " 110,\n",
       " 200,\n",
       " 101,\n",
       " 88,\n",
       " 42]"
      ]
     },
     "execution_count": 13,
     "metadata": {},
     "output_type": "execute_result"
    }
   ],
   "source": [
    "Message_Encoded"
   ]
  },
  {
   "cell_type": "code",
   "execution_count": 6,
   "metadata": {},
   "outputs": [],
   "source": [
    "def Code_to_Text(Encoded_Message, decoding_matrix):\n",
    "    \"\"\"\n",
    "    Where,\n",
    "    encoded_message=List of numbers which represent an encoded message.\n",
    "    alphabets: List of alphabets.\n",
    "    decoding_matrix: The provided decoding matrix.\n",
    "    \"\"\"\n",
    "    temp1=np.array(Encoded_Message) #Converting the encoded message into an array.\n",
    "    temp1=np.array(temp1).reshape(-1,2).T #Taking transpose of the encoded message\n",
    "    decode=np.matmul(decoding_matrix, temp1) #Premultiplying the decoding matrix with the encoded message.\n",
    "    decode=decode.tolist() #Converting the decoded message into a list.\n",
    "    temp2=[] #Initializing an empty list.\n",
    "    '''\n",
    "    Here, the decoded matrix is in the form of [[a,c,e],[b,d,f]] and the message is\n",
    "    supposed to be a,b,c,d,e,f, which are encoded numbers of the alphabets.\n",
    "    To convert the nested list into a linear list, we run a loop through both the lists present inside.\n",
    "    '''\n",
    "    for i,j in zip(decode[0],decode[1]):\n",
    "        temp2.append(i)\n",
    "        temp2.append(j)\n",
    "    temp2=[chr(x) for x in temp2] #Converting ASCII to char for each element of the list.\n",
    "    temp2=\"\".join(temp2)\n",
    "    temp2=temp2.replace(\"*\",\" \")\n",
    "    return temp2\n",
    "        \n",
    "    "
   ]
  },
  {
   "cell_type": "code",
   "execution_count": 14,
   "metadata": {},
   "outputs": [
    {
     "data": {
      "text/plain": [
       "'The key to success is hard work, determination, and patience. '"
      ]
     },
     "execution_count": 14,
     "metadata": {},
     "output_type": "execute_result"
    }
   ],
   "source": [
    "Code_to_Text(Message_Encoded,decoding_matrix)"
   ]
  },
  {
   "cell_type": "code",
   "execution_count": null,
   "metadata": {},
   "outputs": [],
   "source": []
  },
  {
   "cell_type": "code",
   "execution_count": null,
   "metadata": {},
   "outputs": [],
   "source": []
  },
  {
   "cell_type": "code",
   "execution_count": null,
   "metadata": {},
   "outputs": [],
   "source": []
  },
  {
   "cell_type": "code",
   "execution_count": null,
   "metadata": {},
   "outputs": [],
   "source": []
  }
 ],
 "metadata": {
  "kernelspec": {
   "display_name": "Python 3",
   "language": "python",
   "name": "python3"
  },
  "language_info": {
   "codemirror_mode": {
    "name": "ipython",
    "version": 3
   },
   "file_extension": ".py",
   "mimetype": "text/x-python",
   "name": "python",
   "nbconvert_exporter": "python",
   "pygments_lexer": "ipython3",
   "version": "3.8.3"
  }
 },
 "nbformat": 4,
 "nbformat_minor": 4
}
