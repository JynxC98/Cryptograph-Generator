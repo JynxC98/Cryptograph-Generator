{
 "cells": [
  {
   "cell_type": "code",
   "execution_count": 1,
   "metadata": {},
   "outputs": [],
   "source": [
    "import numpy as np\n",
    "import string"
   ]
  },
  {
   "cell_type": "code",
   "execution_count": 2,
   "metadata": {},
   "outputs": [],
   "source": [
    "alphabets=list(string.ascii_uppercase)\n",
    "alphabets.append(\"*\")"
   ]
  },
  {
   "cell_type": "code",
   "execution_count": 3,
   "metadata": {},
   "outputs": [],
   "source": [
    "numbers=list(range(1,28))"
   ]
  },
  {
   "cell_type": "code",
   "execution_count": 4,
   "metadata": {},
   "outputs": [],
   "source": [
    "list_1=[[1,1],[0,1]]\n",
    "list_2=[[1,-1],[0,1]]"
   ]
  },
  {
   "cell_type": "code",
   "execution_count": 5,
   "metadata": {},
   "outputs": [],
   "source": [
    "encoding_matrix=np.array(list_1)\n",
    "decoding_matrix=np.array(list_2)"
   ]
  },
  {
   "cell_type": "markdown",
   "metadata": {},
   "source": [
    "## How does Cryptography using matrices work?\n"
   ]
  },
  {
   "cell_type": "markdown",
   "metadata": {},
   "source": [
    "The key matrix is used to encrypt the messages, and its inverse is used to decrypt the encoded messages. It is important that the key matrix be kept secret between the message senders and intended recipients. If the key matrix or its inverse is discovered, then all intercepted messages can be easily decoded.\n",
    "\n",
    "For this code, we will use a 2x2 matrix."
   ]
  },
  {
   "cell_type": "code",
   "execution_count": 6,
   "metadata": {},
   "outputs": [],
   "source": [
    "def Text_to_code(Text, alphabets, numbers, encoding_matrix):\n",
    "    '''\n",
    "    Where,\n",
    "    text: User defined text.\n",
    "    alphabets: List of alphabets in upper case.\n",
    "    numbers: List of numbers ranging from 1-28.\n",
    "    '''\n",
    "    Text=Text.upper() #Converts all the characters into upper string.\n",
    "    Text=Text.replace(\" \",\"*\") #Replacing space with a character.\n",
    "    Text=[char for char in Text]\n",
    "    if len(Text)%2!=0: #Since the length of the characters' list has to be an even number, we add a * if the \n",
    "                        #len is odd.\n",
    "        Text.append(\"*\")\n",
    "    ne=[] #Initializing a temporary list.\n",
    "    for i in Text: #Iterates each and every value of the characters' list.\n",
    "        for j in range(0,len(alphabets)): \n",
    "            if i==alphabets[j]:\n",
    "                ne.append(numbers[j])\n",
    "    encoded_matrix=np.array(ne) #Converts the temporary list into an array.\n",
    "    encoded_matrix=encoded_matrix.reshape(-1,2) #Reshaping the array to form 2 elements in each row.\n",
    "    encoded_matrix=encoded_matrix.T #Taking the transpose of the encoded matrix.\n",
    "    temp=np.matmul(encoding_matrix,encoded_matrix) #Pre-Multiplying the encoding matrix with the encoded_matrix.\n",
    "    temp=temp.tolist() #Converting the encoded-matrix to list.\n",
    "    encoded_message=[]\n",
    "    '''\n",
    "    Here, the encoded matrix is in the form of [[a,c,e],[b,d,f]] and the message is\n",
    "    supposed to be a,b,c,d,e,f, which are encoded numbers of the alphabets.\n",
    "    To convert the nested list into a linear list, we run a loop through both the lists present inside.\n",
    "    '''\n",
    "    for i,j in zip(temp[0],temp[1]): \n",
    "        encoded_message.append(i)\n",
    "        encoded_message.append(j)\n",
    "    \n",
    "    return encoded_message\n",
    "    "
   ]
  },
  {
   "cell_type": "code",
   "execution_count": 7,
   "metadata": {
    "scrolled": true
   },
   "outputs": [
    {
     "name": "stdout",
     "output_type": "stream",
     "text": [
      "Enter your message(only String) \n",
      "Now Study\n"
     ]
    }
   ],
   "source": [
    "Message=input(\"Enter your message(only String) \\n\")"
   ]
  },
  {
   "cell_type": "code",
   "execution_count": 8,
   "metadata": {},
   "outputs": [],
   "source": [
    "encoded_message=Text_to_code(Message,alphabets,numbers,encoding_matrix)"
   ]
  },
  {
   "cell_type": "code",
   "execution_count": 9,
   "metadata": {},
   "outputs": [
    {
     "data": {
      "text/plain": [
       "[29, 15, 50, 27, 39, 20, 25, 4, 52, 27]"
      ]
     },
     "execution_count": 9,
     "metadata": {},
     "output_type": "execute_result"
    }
   ],
   "source": [
    "encoded_message"
   ]
  },
  {
   "cell_type": "code",
   "execution_count": 10,
   "metadata": {},
   "outputs": [],
   "source": [
    "def Decoder(encoded_message, alphabets, numbers, decoding_matrix):\n",
    "    \"\"\"\n",
    "    Where,\n",
    "    encoded_message=List of numbers which represent an encoded message.\n",
    "    alphabets: List of alphabets.\n",
    "    decoding_matrix: The provided decoding matrix.\n",
    "    \"\"\"\n",
    "    temp1=np.array(encoded_message) #Converting the encoded message into an array.\n",
    "    temp1=np.array(temp1).reshape(-1,2).T #Taking transpose of the encoded message\n",
    "    decode=np.matmul(decoding_matrix, temp1) #Premultiplying the decoding matrix with the encoded message.\n",
    "    decode=decode.tolist() #Converting the decoded message into a list.\n",
    "    temp2=[]\n",
    "    '''\n",
    "    Here, the decoded matrix is in the form of [[a,c,e],[b,d,f]] and the message is\n",
    "    supposed to be a,b,c,d,e,f, which are encoded numbers of the alphabets.\n",
    "    To convert the nested list into a linear list, we run a loop through both the lists present inside.\n",
    "    '''\n",
    "    for i,j in zip(decode[0],decode[1]):\n",
    "        temp2.append(i)\n",
    "        temp2.append(j)\n",
    "    temp3=[]\n",
    "    for i in temp2: #Iterating through decoded list.\n",
    "        for j in range(0,len(numbers)): \n",
    "            if i==numbers[j]: \n",
    "                temp3.append(alphabets[j]) #Appending the alphabets corresponding to their numbers.\n",
    "    temp3=\"\".join(temp3) #Joining the string.\n",
    "    temp3=temp3.replace(\"*\",\" \") #Replacing * with space.\n",
    "    return temp3"
   ]
  },
  {
   "cell_type": "code",
   "execution_count": 11,
   "metadata": {},
   "outputs": [
    {
     "data": {
      "text/plain": [
       "'NOW STUDY '"
      ]
     },
     "execution_count": 11,
     "metadata": {},
     "output_type": "execute_result"
    }
   ],
   "source": [
    "Decoder([29, 15, 50, 27, 39, 20, 25, 4, 52, 27],alphabets,numbers,decoding_matrix)"
   ]
  },
  {
   "cell_type": "code",
   "execution_count": null,
   "metadata": {},
   "outputs": [],
   "source": []
  }
 ],
 "metadata": {
  "kernelspec": {
   "display_name": "Python 3",
   "language": "python",
   "name": "python3"
  },
  "language_info": {
   "codemirror_mode": {
    "name": "ipython",
    "version": 3
   },
   "file_extension": ".py",
   "mimetype": "text/x-python",
   "name": "python",
   "nbconvert_exporter": "python",
   "pygments_lexer": "ipython3",
   "version": "3.8.3"
  }
 },
 "nbformat": 4,
 "nbformat_minor": 4
}
