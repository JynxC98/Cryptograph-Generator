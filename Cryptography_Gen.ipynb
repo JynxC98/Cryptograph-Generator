{
 "cells": [
  {
   "cell_type": "code",
   "execution_count": 2,
   "metadata": {},
   "outputs": [],
   "source": [
    "import numpy as np\n",
    "import string"
   ]
  },
  {
   "cell_type": "code",
   "execution_count": 7,
   "metadata": {},
   "outputs": [],
   "source": [
    "alphabets=list(string.ascii_uppercase)\n",
    "alphabets.append(\"*\")"
   ]
  },
  {
   "cell_type": "code",
   "execution_count": 64,
   "metadata": {},
   "outputs": [],
   "source": [
    "numbers=list(range(1,28))"
   ]
  },
  {
   "cell_type": "code",
   "execution_count": 9,
   "metadata": {},
   "outputs": [],
   "source": [
    "list_1=[[1,1],[0,1]]\n",
    "list_2=[[1,-1],[0,1]]"
   ]
  },
  {
   "cell_type": "code",
   "execution_count": 10,
   "metadata": {},
   "outputs": [],
   "source": [
    "encoding_matrix=np.array(list_1)\n",
    "decoding_matrix=np.array(list_2)"
   ]
  },
  {
   "cell_type": "code",
   "execution_count": 65,
   "metadata": {},
   "outputs": [],
   "source": [
    "def Text_to_code(Text, alphabets, numbers, encoding_matrix):\n",
    "    '''\n",
    "    Where,\n",
    "    text: User defined text.\n",
    "    alphabets: List of alphabets in upper case.\n",
    "    numbers: List of numbers ranging from 1-28.\n",
    "    '''\n",
    "    Text=Text.upper() #Converts all the characters into upper string.\n",
    "    Text=Text.replace(\" \",\"*\") #Replacing space with a character.\n",
    "    Text=[char for char in Text]\n",
    "    if len(Text)%2!=0: #Since the length of the characters' list has to be an even number, we add a * if the \n",
    "                        #len is odd.\n",
    "        Text.append(\"*\")\n",
    "    ne=[] #Initializing a temporary list.\n",
    "    for i in Text: #Iterates each and every value of the characters' list.\n",
    "        for j in range(0,len(alphabets)): \n",
    "            if i==alphabets[j]:\n",
    "                ne.append(numbers[j])\n",
    "    encoded_matrix=np.array(ne)\n",
    "    encoded_matrix=encoded_matrix.reshape(-1,2)\n",
    "    encoded_matrix=encoded_matrix.T\n",
    "    temp=np.matmul(encoding_matrix,encoded_matrix)\n",
    "    temp=temp.tolist()\n",
    "    encoded_message=[]\n",
    "    for i,j in zip(temp[0],temp[1]):\n",
    "        encoded_message.append(i)\n",
    "        encoded_message.append(j)\n",
    "    \n",
    "    return encoded_message\n",
    "    "
   ]
  },
  {
   "cell_type": "code",
   "execution_count": 46,
   "metadata": {
    "scrolled": true
   },
   "outputs": [
    {
     "name": "stdout",
     "output_type": "stream",
     "text": [
      "Enter your message(only String) \n",
      "Now Study\n"
     ]
    }
   ],
   "source": [
    "Message=input(\"Enter your message(only String) \\n\")"
   ]
  },
  {
   "cell_type": "code",
   "execution_count": 68,
   "metadata": {},
   "outputs": [],
   "source": [
    "encoded_message=Text_to_code(Message,alphabets,numbers,encoding_matrix)"
   ]
  },
  {
   "cell_type": "code",
   "execution_count": 69,
   "metadata": {},
   "outputs": [
    {
     "data": {
      "text/plain": [
       "[29, 15, 50, 27, 39, 20, 25, 4, 52, 27]"
      ]
     },
     "execution_count": 69,
     "metadata": {},
     "output_type": "execute_result"
    }
   ],
   "source": [
    "encoded_message"
   ]
  },
  {
   "cell_type": "code",
   "execution_count": 90,
   "metadata": {},
   "outputs": [],
   "source": [
    "def Decoder(encoded_message, alphabets, numbers, decoding_matrix):\n",
    "    \"\"\"\n",
    "    Where,\n",
    "    encoded_message=List of numbers which represent an encoded message.\n",
    "    alphabets: List of alphabets.\n",
    "    decoding_matrix: The provided decoding matrix.\n",
    "    \"\"\"\n",
    "    temp1=np.array(encoded_message)\n",
    "    temp1=np.array(temp1).reshape(-1,2).T\n",
    "    decode=np.matmul(decoding_matrix, temp1)\n",
    "    decode=decode.tolist()\n",
    "    temp2=[]\n",
    "    for i,j in zip(decode[0],decode[1]):\n",
    "        temp2.append(i)\n",
    "        temp2.append(j)\n",
    "    temp3=[]\n",
    "    for i in temp2:\n",
    "        for j in range(0,len(numbers)):\n",
    "            if i==numbers[j]:\n",
    "                temp3.append(alphabets[j])\n",
    "    temp3=\"\".join(temp3)\n",
    "    temp3=temp3.replace(\"*\",\" \")\n",
    "    return temp3"
   ]
  },
  {
   "cell_type": "code",
   "execution_count": 91,
   "metadata": {},
   "outputs": [
    {
     "data": {
      "text/plain": [
       "'NOW STUDY '"
      ]
     },
     "execution_count": 91,
     "metadata": {},
     "output_type": "execute_result"
    }
   ],
   "source": [
    "Decoder([29, 15, 50, 27, 39, 20, 25, 4, 52, 27],alphabets,numbers,decoding_matrix)"
   ]
  },
  {
   "cell_type": "code",
   "execution_count": 94,
   "metadata": {},
   "outputs": [],
   "source": [
    "Message_new=\"I ate 20 burgers\""
   ]
  },
  {
   "cell_type": "code",
   "execution_count": 95,
   "metadata": {},
   "outputs": [],
   "source": [
    "encoded_message_new=Text_to_code(Message_new,alphabets,numbers,encoding_matrix)"
   ]
  },
  {
   "cell_type": "code",
   "execution_count": 96,
   "metadata": {},
   "outputs": [
    {
     "data": {
      "text/plain": [
       "[36, 27, 21, 20, 32, 27, 29, 2, 39, 18, 12, 5, 37, 19]"
      ]
     },
     "execution_count": 96,
     "metadata": {},
     "output_type": "execute_result"
    }
   ],
   "source": [
    "encoded_message_new"
   ]
  },
  {
   "cell_type": "code",
   "execution_count": 97,
   "metadata": {},
   "outputs": [
    {
     "data": {
      "text/plain": [
       "'I ATE  BURGERS'"
      ]
     },
     "execution_count": 97,
     "metadata": {},
     "output_type": "execute_result"
    }
   ],
   "source": [
    "Decoder(encoded_message_new,alphabets,numbers,decoding_matrix)"
   ]
  },
  {
   "cell_type": "code",
   "execution_count": null,
   "metadata": {},
   "outputs": [],
   "source": []
  }
 ],
 "metadata": {
  "kernelspec": {
   "display_name": "Python 3",
   "language": "python",
   "name": "python3"
  },
  "language_info": {
   "codemirror_mode": {
    "name": "ipython",
    "version": 3
   },
   "file_extension": ".py",
   "mimetype": "text/x-python",
   "name": "python",
   "nbconvert_exporter": "python",
   "pygments_lexer": "ipython3",
   "version": "3.8.3"
  }
 },
 "nbformat": 4,
 "nbformat_minor": 4
}
